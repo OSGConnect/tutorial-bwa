{
 "cells": [
  {
   "cell_type": "markdown",
   "id": "7dbf3116-55b0-4448-91fa-49a75a848701",
   "metadata": {},
   "source": [
    "# High-Throughput BWA Read Mapping\n",
    "\n",
    "This tutorial focuses on a subset of the [Data Carpentry Genomics workshop curriculum](https://datacarpentry.org/genomics-workshop/) - specifically, this page cover's how to run a BWA workflow on OSG resources. It will use the same general flow as the BWA segment of the Data Carpentry workshop with minor adjustments. The goal of this tutorial is to learn how to convert an existing BWA workflow to run on the OSPool.  \n"
   ]
  },
  {
   "cell_type": "markdown",
   "id": "71a612ef-d96d-4a9c-b1e2-be313815e164",
   "metadata": {},
   "source": [
    "## Software Environment\n",
    "\n",
    "An earlier version of this tutorial has you compile bwa and bring along the compiled installation. To make things a little cleaner, we are going to use a pre-built container that's now part of the tutorial. It is the `bwa.sif` file inside the `/software` directory. \n",
    "\n",
    "> To explore the container before using it, you need to use a terminal window (not a notebook). \n",
    "> In the terminal, make sure you are in the `tutorial-bwa` directory. Then run this command:\n",
    "> \n",
    ">     $ apptainer shell software/bwa.sif\n",
    "> \n",
    "> Your prompt should change to something like `Apptainer>`. From here, you can run the `bwa` command, which should look something like this: \n",
    "> \n",
    ">      Apptainer> bwa\n",
    ">      Program: bwa (alignment via Burrows-Wheeler transformation)\n",
    ">        Version: 0.7.17-r1198-dirty\n",
    ">        Contact: Heng Li <hli@ds.dfci.harvard.edu>\n",
    ">\n",
    ">        Usage:   bwa <command> [options]\n",
    ">\n",
    ">        Command: index         index sequences in the FASTA format\n",
    ">                 mem           BWA-MEM algorithm\n",
    ">                 fastmap       identify super-maximal exact matches\n",
    ">                 pemerge       merge overlapping paired ends (EXPERIMENTAL)\n",
    ">                 aln           gapped/ungapped alignment\n",
    ">                 samse         generate alignment (single ended)\n",
    ">                 sampe         generate alignment (paired ended)\n",
    ">                 bwasw         BWA-SW for long queries (DEPRECATED)\n",
    ">\n",
    ">                 shm           manage indices in shared memory\n",
    ">                 fa2pac        convert FASTA to PAC format\n",
    ">                 pac2bwt       generate BWT from PAC\n",
    ">                 pac2bwtgen    alternative algorithm for generating BWT\n",
    ">                 bwtupdate     update .bwt to the new format\n",
    ">                 bwt2sa        generate SA from BWT and Occ\n",
    ">\n",
    ">        Note: To use BWA, you need to first index the genome with `bwa index'.\n",
    ">              There are three alignment algorithms in BWA: `mem', `bwasw', and\n",
    ">              `aln/samse/sampe'. If you are not sure which to use, try `bwa mem'\n",
    ">              first. Please `man ./bwa.1' for the manual.\n",
    ">\n",
    "> \n",
    "> To exit the container, type `exit`. "
   ]
  },
  {
   "cell_type": "markdown",
   "id": "ee8593a0-8690-4ad4-82c2-7cd26009b182",
   "metadata": {},
   "source": [
    "## Download Data to Analyze\n",
    "\n",
    "Now that we have access to BWA, we need to download data to analyze. For this tutorial, we will be downloading data used in the Data Carpentry workshop. This data includes both the genome of Escherichia coli (E. coli) and paired-end RNA sequencing reads obtained from a study carried out by Blount et al. published in [PNAS](http://www.pnas.org/content/105/23/7899). Additional information about how the data was modified in preparation for this analysis can be found on the [Data Carpentry's workshop website](https://datacarpentry.org/wrangling-genomics/aio.html)."
   ]
  },
  {
   "cell_type": "code",
   "execution_count": 1,
   "id": "f5f79bdf-c92a-421b-ab07-383b3d615e7e",
   "metadata": {},
   "outputs": [
    {
     "name": "stdout",
     "output_type": "stream",
     "text": [
      "  % Total    % Received % Xferd  Average Speed   Time    Time     Time  Current\n",
      "                                 Dload  Upload   Total   Spent    Left  Speed\n",
      "100 1343k  100 1343k    0     0  2300k      0 --:--:-- --:--:-- --:--:-- 2300k\n",
      "  % Total    % Received % Xferd  Average Speed   Time    Time     Time  Current\n",
      "                                 Dload  Upload   Total   Spent    Left  Speed\n",
      "  0     0    0     0    0     0      0      0 --:--:-- --:--:-- --:--:--     0\n",
      "100  109M  100  109M    0     0  18.0M      0  0:00:06  0:00:06 --:--:-- 26.1M\n",
      "sub/\n",
      "sub/SRR2584866_1.trim.sub.fastq\n",
      "sub/SRR2589044_1.trim.sub.fastq\n",
      "sub/SRR2589044_2.trim.sub.fastq\n",
      "sub/SRR2584863_2.trim.sub.fastq\n",
      "sub/SRR2584866_2.trim.sub.fastq\n",
      "sub/SRR2584863_1.trim.sub.fastq\n"
     ]
    }
   ],
   "source": [
    "./download_data.sh"
   ]
  },
  {
   "cell_type": "markdown",
   "id": "d338df39-5a43-4925-a39b-2f86249e1539",
   "metadata": {},
   "source": [
    "Investigating the size of the downloaded genome by typing:"
   ]
  },
  {
   "cell_type": "code",
   "execution_count": 93,
   "id": "ad4a08ef-487c-4280-8510-206f8e26cc50",
   "metadata": {},
   "outputs": [
    {
     "name": "stdout",
     "output_type": "stream",
     "text": [
      "total 1.4M\n",
      "-rw-r--r-- 1 jovyan users 1.4M Mar 27 01:20 ecoli_rel606.fasta.gz\n"
     ]
    }
   ],
   "source": [
    "ls -lh data/ref_genome/"
   ]
  },
  {
   "cell_type": "markdown",
   "id": "e9980075-631b-45f9-a511-7276715e23d6",
   "metadata": {},
   "source": [
    "reveals the file is 1.4 MB. We should also check the trimmed fastq paired-end read files: "
   ]
  },
  {
   "cell_type": "code",
   "execution_count": 94,
   "id": "afbb7ceb-3f9e-4b3b-96a8-ec6b11383066",
   "metadata": {},
   "outputs": [
    {
     "name": "stdout",
     "output_type": "stream",
     "text": [
      "total 332M\n",
      "-rw-r--r-- 1 jovyan users  33 Mar 27 02:01 samples.txt\n",
      "-rw-r--r-- 1 jovyan users 58M Jul  6  2018 SRR2584863_1.trim.sub.fastq\n",
      "-rw-r--r-- 1 jovyan users 53M Jul  6  2018 SRR2584863_2.trim.sub.fastq\n",
      "-rw-r--r-- 1 jovyan users 55M Jul  6  2018 SRR2584866_1.trim.sub.fastq\n",
      "-rw-r--r-- 1 jovyan users 57M Jul  6  2018 SRR2584866_2.trim.sub.fastq\n",
      "-rw-r--r-- 1 jovyan users 58M Jul  6  2018 SRR2589044_1.trim.sub.fastq\n",
      "-rw-r--r-- 1 jovyan users 53M Jul  6  2018 SRR2589044_2.trim.sub.fastq\n"
     ]
    }
   ],
   "source": [
    "ls -lh data/trimmed_fastq_small"
   ]
  },
  {
   "cell_type": "markdown",
   "id": "ac6237f6-2070-4eff-83b1-de0adc215148",
   "metadata": {},
   "source": [
    "## Run a Single Test Job\n",
    "\n",
    "Now that we have all items in our analysis ready, it is time to submit a single test job to map our RNA reads to the E. coli genome. \n",
    "For a single test job, we will choose a single sample to analyze. In the following example, we will align both the \n",
    "forward and reverse reads of SRR2584863 to the E. coli genome.  Our executable looks like this: "
   ]
  },
  {
   "cell_type": "code",
   "execution_count": 95,
   "id": "b2dcb660-4d20-4925-86ac-bcbb0d68c16b",
   "metadata": {},
   "outputs": [
    {
     "name": "stdout",
     "output_type": "stream",
     "text": [
      "#!/bin/bash\n",
      "# Script name: bwa-container.sh\n",
      "\n",
      "# set bwa location\n",
      "export PATH=/bwa:$PATH\n",
      "\n",
      "echo \"Indexing E. coli genome\"\n",
      "bwa index ecoli_rel606.fasta.gz\n",
      "\n",
      "echo \"Starting bwa alignment for SRR2584863\"\n",
      "bwa mem ecoli_rel606.fasta.gz SRR2584863_1.trim.sub.fastq SRR2584863_2.trim.sub.fastq > SRR2584863.aligned.sam\n",
      "\n",
      "echo \"Done with bwa alignment for SRR2584863!\"\n",
      "\n",
      "echo \"Cleaning up files generated from genome indexing\"\n",
      "rm ecoli_rel606.fasta.gz.amb\n",
      "rm ecoli_rel606.fasta.gz.ann\n",
      "rm ecoli_rel606.fasta.gz.bwt\n",
      "rm ecoli_rel606.fasta.gz.pac\n",
      "rm ecoli_rel606.fasta.gz.sa\n"
     ]
    }
   ],
   "source": [
    "cat bwa-container.sh"
   ]
  },
  {
   "cell_type": "markdown",
   "id": "dbffdf26-cf19-4b75-8d9f-6bedd2c06d38",
   "metadata": {},
   "source": [
    "Putting all the pieces together, we want to edit the following submit file: "
   ]
  },
  {
   "cell_type": "code",
   "execution_count": 96,
   "id": "610ea9ab-6ee2-44fe-bff5-fe804ba9c8af",
   "metadata": {},
   "outputs": [
    {
     "name": "stdout",
     "output_type": "stream",
     "text": [
      "universe        = container\n",
      "container_image = ./bwa.sif\n",
      "\n",
      "executable  = bwa-container.sh\n",
      "# arguments = \n",
      "\n",
      "# need to transfer bwa.tar.gz file, the reference\n",
      "# genome, and the trimmed fastq files\n",
      "transfer_input_files = data/ref_genome/ecoli_rel606.fasta.gz, data/trimmed_fastq_small/SRR2584863_1.trim.sub.fastq, data/trimmed_fastq_small/SRR2584863_2.trim.sub.fastq, software/bwa.sif\n",
      "should_transfer_files = YES\n",
      "when_to_transfer_output = ON_EXIT\n",
      "\n",
      "log         = logs/bwa_test_job.log\n",
      "output      = logs/bwa_test_job.out\n",
      "error       = logs/bwa_test_job.error\n",
      "\n",
      "+JobDurationCategory = \"Medium\"\n",
      "request_cpus    = 1\n",
      "request_memory  = 1GB\n",
      "request_disk    = 1GB\n",
      "\n",
      "queue 1\n"
     ]
    }
   ],
   "source": [
    "cat bwa-container.sub"
   ]
  },
  {
   "cell_type": "markdown",
   "id": "bb6a908f-bd80-47a9-aa24-b44382ebbc73",
   "metadata": {},
   "source": [
    "To look like this: \n",
    "\n",
    "```\n",
    "universe    = container\n",
    "container_image = software/bwa.sif\n",
    "\n",
    "executable  = bwa-container.sh\n",
    "# arguments = \n",
    "\n",
    "# need to transfer bwa.tar.gz file, the reference\n",
    "# genome, and the trimmed fastq files\n",
    "transfer_input_files = data/ref_genome/ecoli_rel606.fasta.gz, data/trimmed_fastq_small/SRR2584863_1.trim.sub.fastq, data/trimmed_fastq_small/SRR2584863_2.trim.sub.fastq, software/bwa.sif\n",
    "should_transfer_files = YES\n",
    "when_to_transfer_output = ON_EXIT\n",
    "\n",
    "log         = logs/bwa_test_job.log\n",
    "output      = logs/bwa_test_job.out\n",
    "error       = logs/bwa_test_job.error\n",
    "\n",
    "+JobDurationCategory = \"Medium\"\n",
    "request_cpus    = 1\n",
    "request_memory  = 1GB\n",
    "request_disk    = 1GB\n",
    "\n",
    "queue 1\n",
    "```\n",
    "You will notice that the .log, .out, and .error files will be saved to a folder called `logs`. \n",
    "This folder needs to be created before jobs are submitted. \n",
    "\n",
    "We can submit this single test job to HTCondor by typing: "
   ]
  },
  {
   "cell_type": "code",
   "execution_count": 97,
   "id": "fe186e8b-fac9-487f-a7ba-b76e57435a40",
   "metadata": {},
   "outputs": [
    {
     "name": "stdout",
     "output_type": "stream",
     "text": [
      "Submitting job(s).\n",
      "1 job(s) submitted to cluster 13.\n"
     ]
    }
   ],
   "source": [
    "condor_submit bwa-container.sub"
   ]
  },
  {
   "cell_type": "markdown",
   "id": "6acb62cb-1401-4b3a-8d34-149c46b01d43",
   "metadata": {},
   "source": [
    "To check the status of the job, we can use: "
   ]
  },
  {
   "cell_type": "code",
   "execution_count": 99,
   "id": "f11f7096-f8f5-4b5b-90d7-4217d9c442d0",
   "metadata": {},
   "outputs": [
    {
     "name": "stdout",
     "output_type": "stream",
     "text": [
      "\n",
      "\n",
      "-- Schedd: jovyan@jupyter-email-3achristinakconnect-40gmail-2ecom : <127.0.0.1:9618?... @ 03/27/23 02:16:39\n",
      "OWNER BATCH_NAME      SUBMITTED   DONE   RUN    IDLE   HOLD  TOTAL JOB_IDS\n",
      "\n",
      "Total for query: 0 jobs; 0 completed, 0 removed, 0 idle, 0 running, 0 held, 0 suspended \n",
      "Total for all users: 0 jobs; 0 completed, 0 removed, 0 idle, 0 running, 0 held, 0 suspended\n",
      "\n"
     ]
    }
   ],
   "source": [
    "condor_q"
   ]
  },
  {
   "cell_type": "markdown",
   "id": "8a64279b-9025-4097-a577-5bc095192037",
   "metadata": {},
   "source": [
    "Upon the completion of the test job, we should investigate the output to ensure that it is what we expected and \n",
    "also review the `.log` file to help optimize future resource requests in preparation for scaling up. \n"
   ]
  },
  {
   "cell_type": "code",
   "execution_count": 100,
   "id": "163b7a2e-12b3-411b-b1fc-0b4c9c43f825",
   "metadata": {},
   "outputs": [
    {
     "name": "stdout",
     "output_type": "stream",
     "text": [
      "-rw-r--r-- 1 jovyan users 127M Mar 27 02:16 SRR2584863.aligned.sam\n"
     ]
    }
   ],
   "source": [
    "ls -lh *.sam"
   ]
  },
  {
   "cell_type": "code",
   "execution_count": 101,
   "id": "1c9cbdcb-af7e-40db-8316-234bf9eb9fee",
   "metadata": {},
   "outputs": [
    {
     "name": "stdout",
     "output_type": "stream",
     "text": [
      "[M::mem_pestat] (25, 50, 75) percentile: (430, 944, 2880)\n",
      "[M::mem_pestat] low and high boundaries for computing mean and std.dev: (1, 7780)\n",
      "[M::mem_pestat] mean and std.dev: (1672.06, 1727.12)\n",
      "[M::mem_pestat] low and high boundaries for proper pairs: (1, 10230)\n",
      "[M::mem_pestat] skip orientation FF\n",
      "[M::mem_pestat] skip orientation RR\n",
      "[M::mem_process_seqs] Processed 46340 reads in 2.550 CPU sec, 2.474 real sec\n",
      "[main] Version: 0.7.17-r1198-dirty\n",
      "[main] CMD: bwa mem ecoli_rel606.fasta.gz SRR2584863_1.trim.sub.fastq SRR2584863_2.trim.sub.fastq\n",
      "[main] Real time: 17.930 sec; CPU: 18.382 sec\n"
     ]
    }
   ],
   "source": [
    "tail logs/bwa_test_job.error"
   ]
  },
  {
   "cell_type": "code",
   "execution_count": 102,
   "id": "0c362115-0016-483e-8f09-047678936dbf",
   "metadata": {},
   "outputs": [
    {
     "name": "stdout",
     "output_type": "stream",
     "text": [
      "Indexing E. coli genome\n",
      "Starting bwa alignment for SRR2584863\n",
      "Done with bwa alignment for SRR2584863!\n",
      "Cleaning up files generated from genome indexing\n"
     ]
    }
   ],
   "source": [
    "cat logs/bwa_test_job.out"
   ]
  },
  {
   "cell_type": "code",
   "execution_count": 103,
   "id": "f39b5491-fcec-4428-95ea-41ba7273b72d",
   "metadata": {},
   "outputs": [
    {
     "name": "stdout",
     "output_type": "stream",
     "text": [
      "\t834325312  -  Run Bytes Received By Job\n",
      "\t132799032  -  Total Bytes Sent By Job\n",
      "\t834325312  -  Total Bytes Received By Job\n",
      "\tPartitionable Resources :     Usage  Request Allocated \n",
      "\t   Cpus                 :      0.92        1         1 \n",
      "\t   Disk (KB)            : 944473     1048576   1107033 \n",
      "\t   Memory (MB)          :    143        1024      1024 \n",
      "\n",
      "\tJob terminated of its own accord at 2023-03-27T02:16:27Z with exit-code 0.\n",
      "...\n"
     ]
    }
   ],
   "source": [
    "tail logs/bwa_test_job.log"
   ]
  },
  {
   "cell_type": "markdown",
   "id": "1377dfc1-49c6-4224-b9f3-3332222f5a32",
   "metadata": {},
   "source": [
    "Here we see that we used less memory than we requested. In future jobs, we should \n",
    "request a smaller amount of memory. Prior to scaling up our analysis, \n",
    "we should run additional test jobs using these resource requests to ensure that they are sufficient to allow our job to \n",
    "complete successfully."
   ]
  },
  {
   "cell_type": "markdown",
   "id": "79bc8538-d3a4-48f5-b5bd-bb1fe43e3a9f",
   "metadata": {},
   "source": [
    "## Modularizing and Organizing the Job"
   ]
  },
  {
   "cell_type": "markdown",
   "id": "fd5e848d-6362-49e8-a600-0d2393108816",
   "metadata": {},
   "source": [
    "Now that things are running, we want to make this job more modular and re-organize the files a little bit. First, we want \n",
    "to modify our executable (the shell script) so it can take in different files. We'll do this by adding an argument \n",
    "to the script. We'll modify the shell script to look like this: \n",
    "\n",
    "```\n",
    "#!/bin/bash\n",
    "# Script name: bwa-container.sh\n",
    "\n",
    "SAMPLE=$1\n",
    "\n",
    "# set BWA location\n",
    "export PATH=/bwa:$PATH\n",
    "\n",
    "echo \"Indexing E. coli genome\"\n",
    "bwa index ecoli_rel606.fasta.gz\n",
    "\n",
    "echo \"Starting bwa alignment for ${SAMPLE}\"\n",
    "bwa mem ecoli_rel606.fasta.gz ${SAMPLE}_1.trim.sub.fastq ${SAMPLE}_2.trim.sub.fastq > ${SAMPLE}.aligned.sam\n",
    "\n",
    "echo \"Done with bwa alignment for ${SAMPLE}!\"\n",
    "\n",
    "echo \"Cleaning up files generated from genome indexing\"\n",
    "rm ecoli_rel606.fasta.gz.amb\n",
    "rm ecoli_rel606.fasta.gz.ann\n",
    "rm ecoli_rel606.fasta.gz.bwt\n",
    "rm ecoli_rel606.fasta.gz.pac\n",
    "rm ecoli_rel606.fasta.gz.sa\n",
    "```\n",
    "\n",
    "And in the submit file, uncomment the `arguments` line and provide the sample number: \n",
    "\n",
    "```\n",
    "arguments = SRR2584863\n",
    "```"
   ]
  },
  {
   "cell_type": "markdown",
   "id": "513c87dc-1147-43fe-9deb-5a7f6392e50e",
   "metadata": {},
   "source": [
    "Secondly, we'll want to tidy up where our results are going. Let's say we want to \n",
    "have all of our aligned `.sam` files in a folder called `results`. We can make the folder: "
   ]
  },
  {
   "cell_type": "code",
   "execution_count": 104,
   "id": "a84dbf08-b4d0-4bd5-8542-2ba2c0f4d92b",
   "metadata": {},
   "outputs": [],
   "source": [
    "mkdir results"
   ]
  },
  {
   "cell_type": "markdown",
   "id": "e39cf895-7b63-4ab8-8468-597f5e67e654",
   "metadata": {},
   "source": [
    "To store the aligned sequencing files in the `results` folder, we can add the `transfer_output_remaps` feature to our submit file. This feature allows us to specify a name and a path to save our output files in the format of \"file1 = path/to/save/file2\", where file1 is the origional name of the document and file2 is the name that we want to save the file using. In the example above, we do not change the name of the resulting output files. This feature also helps us keep an organized working space, rather than having all of our resulting sequencing files be saved to our `/home` directory. \n",
    "```\n",
    "transfer_output_remaps = \"SRR2584863.aligned.sam=results/SRR2584863.aligned.sam\"\n",
    "```"
   ]
  },
  {
   "cell_type": "markdown",
   "id": "e1bfbc0a-0897-41a9-bc35-0263ed322503",
   "metadata": {},
   "source": [
    "In the end, our submit file and executable should look like this: \n",
    "\n",
    "Executable: \n",
    "\n",
    "```\n",
    "#!/bin/bash\n",
    "# Script name: bwa-container.sh\n",
    "\n",
    "SAMPLE=$1\n",
    "\n",
    "echo \"Indexing E. coli genome\"\n",
    "bwa index ecoli_rel606.fasta.gz\n",
    "\n",
    "echo \"Starting bwa alignment for ${SAMPLE}\"\n",
    "bwa mem ecoli_rel606.fasta.gz ${SAMPLE}_1.trim.sub.fastq ${SAMPLE}_2.trim.sub.fastq > ${SAMPLE}.aligned.sam\n",
    "\n",
    "echo \"Done with bwa alignment for ${SAMPLE}!\"\n",
    "\n",
    "echo \"Cleaning up files generated from genome indexing\"\n",
    "rm ecoli_rel606.fasta.gz.amb\n",
    "rm ecoli_rel606.fasta.gz.ann\n",
    "rm ecoli_rel606.fasta.gz.bwt\n",
    "rm ecoli_rel606.fasta.gz.pac\n",
    "rm ecoli_rel606.fasta.gz.sa\n",
    "```\n",
    "\n",
    "Submit file: \n",
    "\n",
    "```\n",
    "universe    = container\n",
    "container_image = software/bwa.sif\n",
    "\n",
    "executable  = bwa-container.sh\n",
    "arguments = SRR2584863\n",
    "\n",
    "# need to transfer bwa.tar.gz file, the reference\n",
    "# genome, and the trimmed fastq files\n",
    "transfer_input_files = data/ref_genome/ecoli_rel606.fasta.gz, data/trimmed_fastq_small/SRR2584863_1.trim.sub.fastq, data/trimmed_fastq_small/SRR2584863_2.trim.sub.fastq, software/bwa.sif\n",
    "transfer_output_remaps = \"SRR2584863.aligned.sam=results/SRR2584863.aligned.sam\"\n",
    "should_transfer_files = YES\n",
    "when_to_transfer_output = ON_EXIT\n",
    "\n",
    "log         = logs/bwa_SRR2584863_job.log\n",
    "output      = logs/bwa_SRR2584863_job.out\n",
    "error       = logs/bwa_SRR2584863_job.error\n",
    "\n",
    "+JobDurationCategory = \"Medium\"\n",
    "request_cpus    = 1\n",
    "request_memory  = 500MB\n",
    "request_disk    = 500MB\n",
    "\n",
    "queue 1\n",
    "```"
   ]
  },
  {
   "cell_type": "markdown",
   "id": "bce174f4-274d-4137-98b7-9d36e31277b0",
   "metadata": {},
   "source": [
    "We'll want to submit this and then double-check that our changes worked. "
   ]
  },
  {
   "cell_type": "code",
   "execution_count": 105,
   "id": "d1461784-738b-46dc-ad7a-7ac4bf39ea26",
   "metadata": {},
   "outputs": [
    {
     "name": "stdout",
     "output_type": "stream",
     "text": [
      "Submitting job(s).\n",
      "1 job(s) submitted to cluster 14.\n"
     ]
    }
   ],
   "source": [
    "condor_submit bwa-container.sub"
   ]
  },
  {
   "cell_type": "code",
   "execution_count": 107,
   "id": "917ca2f5-a241-421e-a202-b88d0026cff8",
   "metadata": {},
   "outputs": [
    {
     "name": "stdout",
     "output_type": "stream",
     "text": [
      "\n",
      "\n",
      "-- Schedd: jovyan@jupyter-email-3achristinakconnect-40gmail-2ecom : <127.0.0.1:9618?... @ 03/27/23 02:18:50\n",
      "OWNER BATCH_NAME      SUBMITTED   DONE   RUN    IDLE   HOLD  TOTAL JOB_IDS\n",
      "\n",
      "Total for query: 0 jobs; 0 completed, 0 removed, 0 idle, 0 running, 0 held, 0 suspended \n",
      "Total for all users: 0 jobs; 0 completed, 0 removed, 0 idle, 0 running, 0 held, 0 suspended\n",
      "\n"
     ]
    }
   ],
   "source": [
    "condor_q"
   ]
  },
  {
   "cell_type": "code",
   "execution_count": 109,
   "id": "3d86da64-4991-4835-b3f4-663dd650889a",
   "metadata": {},
   "outputs": [
    {
     "name": "stdout",
     "output_type": "stream",
     "text": [
      "-rw-r--r-- 1 jovyan users 127M Mar 27 02:18 results/SRR2584863.aligned.sam\n"
     ]
    }
   ],
   "source": [
    "ls -lh results/*.sam"
   ]
  },
  {
   "cell_type": "markdown",
   "id": "91b0c0ff-e890-42f0-90e8-6add3b570954",
   "metadata": {},
   "source": [
    "## Scaling Up\n",
    "\n",
    "In preparation for scaling up, please review our [guide on how to scale up after a successful test job](https://support.opensciencegrid.org/support/solutions/articles/12000076552-scaling-up-after-success-with-test-jobs) and how to \n",
    "[easily submit multiple jobs with a single submit file](https://support.opensciencegrid.org/support/solutions/articles/12000073165-easily-submit-multiple-jobs).\n",
    "\n",
    "After reviewing how to submit multiple jobs with a single submit file, it is possible to determine that the most appropriate way to submit multiple jobs for this analysis is to use `queue <var> from <list.txt>`. \n",
    "\n",
    "To use this option, we first need to create a file with just the sample names/IDs that we want to analyze. To do this, we want to cut all information after the \"_\" symbol to remove the forward/reverse read information and file extensions. For example, we want SRR2584863_1.trim.sub.fastq to become just SRR2584863. \n",
    "\n",
    "We will save the sample names in a file called `samples.txt`:"
   ]
  },
  {
   "cell_type": "code",
   "execution_count": 110,
   "id": "aa65f3d6-2a4f-4dbe-8081-937749937f33",
   "metadata": {},
   "outputs": [],
   "source": [
    "cd data/trimmed_fastq_small/\n",
    "ls *.fastq | cut -f 1 -d '_' | uniq > samples.txt\n",
    "cd ../../"
   ]
  },
  {
   "cell_type": "markdown",
   "id": "49dfcf7b-e28a-4f6b-b103-4bee7b756126",
   "metadata": {},
   "source": [
    "Now, we can create a new submit file called `bwa-alignment.sub` to queue a new job for each sample. \n",
    "To make it simpler to start, you can copy the `bwa-container.sub` file and modify it. "
   ]
  },
  {
   "cell_type": "code",
   "execution_count": 124,
   "id": "5b86e7e1-3949-4c0b-96cd-0a37fd264cb7",
   "metadata": {},
   "outputs": [],
   "source": [
    "cp bwa-container.sub bwa-alignment.sub"
   ]
  },
  {
   "cell_type": "markdown",
   "id": "d1636e1a-7439-46a5-9958-5fbce14837f9",
   "metadata": {},
   "source": [
    "The main changes to make to the submit file are replacing each occurence of the sample \n",
    "identifier with the `$(sample)` variable, and then iterating through our list of samples \n",
    "as shown in the `queue` statement at the end. \n",
    "\n",
    "```\n",
    "universe    = container\n",
    "container_image = ./bwa.sif\n",
    "\n",
    "executable  = bwa-container.sh\n",
    "arguments = $(sample)\n",
    "\n",
    "# need to transfer bwa.tar.gz file, the reference\n",
    "# genome, and the trimmed fastq files\n",
    "transfer_input_files = data/ref_genome/ecoli_rel606.fasta.gz, data/trimmed_fastq_small/$(sample)_1.trim.sub.fastq, data/trimmed_fastq_small/$(sample)_2.trim.sub.fastq, software/bwa.sif\n",
    "transfer_output_remaps = \"$(sample).aligned.sam=results/$(sample).aligned.sam\"\n",
    "should_transfer_files = YES\n",
    "when_to_transfer_output = ON_EXIT\n",
    "\n",
    "log         = logs/bwa_$(sample)_job.log\n",
    "output      = logs/bwa_$(sample)_job.out\n",
    "error       = logs/bwa_$(sample)_job.error\n",
    "\n",
    "+JobDurationCategory = \"Medium\"\n",
    "request_cpus    = 1 \n",
    "request_memory  = 0.5GB\n",
    "request_disk    = 1GB\n",
    "\n",
    "queue sample from data/trimmed_fastq_small/samples.txt\n",
    "```\n",
    "\n",
    "We can then submit the jobs and should see three jobs in the queue, one for each pairs of files. "
   ]
  },
  {
   "cell_type": "code",
   "execution_count": 125,
   "id": "3aa92e8b-757b-45a1-b632-1fac72da7798",
   "metadata": {},
   "outputs": [
    {
     "name": "stdout",
     "output_type": "stream",
     "text": [
      "Submitting job(s)...\n",
      "3 job(s) submitted to cluster 16.\n"
     ]
    }
   ],
   "source": [
    "condor_submit bwa-alignment.sub"
   ]
  },
  {
   "cell_type": "code",
   "execution_count": 134,
   "id": "cccd43c5-e581-4880-aa35-b9cd516b78bb",
   "metadata": {},
   "outputs": [
    {
     "name": "stdout",
     "output_type": "stream",
     "text": [
      "\n",
      "\n",
      "-- Schedd: jovyan@jupyter-email-3achristinakconnect-40gmail-2ecom : <127.0.0.1:9618?... @ 03/27/23 02:23:57\n",
      "OWNER BATCH_NAME      SUBMITTED   DONE   RUN    IDLE   HOLD  TOTAL JOB_IDS\n",
      "\n",
      "Total for query: 0 jobs; 0 completed, 0 removed, 0 idle, 0 running, 0 held, 0 suspended \n",
      "Total for all users: 0 jobs; 0 completed, 0 removed, 0 idle, 0 running, 0 held, 0 suspended\n",
      "\n"
     ]
    }
   ],
   "source": [
    "condor_q"
   ]
  },
  {
   "cell_type": "code",
   "execution_count": 135,
   "id": "f8d3dd34-7f5f-4b9a-a140-87a6808d8454",
   "metadata": {},
   "outputs": [
    {
     "name": "stdout",
     "output_type": "stream",
     "text": [
      "total 382M\n",
      "-rw-r--r-- 1 jovyan users 127M Mar 27 02:23 SRR2584863.aligned.sam\n",
      "-rw-r--r-- 1 jovyan users 128M Mar 27 02:23 SRR2584866.aligned.sam\n",
      "-rw-r--r-- 1 jovyan users 128M Mar 27 02:23 SRR2589044.aligned.sam\n"
     ]
    }
   ],
   "source": [
    "ls -lh results"
   ]
  },
  {
   "cell_type": "code",
   "execution_count": null,
   "id": "f01d418e-e9f0-4d47-b3f3-95a5cab975d0",
   "metadata": {},
   "outputs": [],
   "source": []
  },
  {
   "cell_type": "code",
   "execution_count": null,
   "id": "c2ba5dc1-f6f7-47c0-92bf-c0794e57d02c",
   "metadata": {},
   "outputs": [],
   "source": []
  }
 ],
 "metadata": {
  "kernelspec": {
   "display_name": "Bash",
   "language": "bash",
   "name": "bash"
  },
  "language_info": {
   "codemirror_mode": "shell",
   "file_extension": ".sh",
   "mimetype": "text/x-sh",
   "name": "bash"
  }
 },
 "nbformat": 4,
 "nbformat_minor": 5
}
